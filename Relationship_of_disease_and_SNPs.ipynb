{
 "cells": [
  {
   "cell_type": "markdown",
   "metadata": {},
   "source": [
    "# Relationship of disease and SNPs"
   ]
  },
  {
   "cell_type": "markdown",
   "metadata": {},
   "source": [
    "Single Nucleotide Polymorphisms (SNPs) may be quantified as predictor variables in order to look for associations with a given phenotype, such as a disease. Investigate the dataset disease.arff containing genomic data on 2000 individuals, some of whom have the disease and some of whom do not. Each row contains data on one individual."
   ]
  },
  {
   "cell_type": "markdown",
   "metadata": {},
   "source": [
    "There are 10 predictor variables: these are SNPs encoded as number of mutated alleles for the gene. The class variable\n",
    "indicates for each person whether they have disease (1 if they have it, zero if not)."
   ]
  },
  {
   "cell_type": "code",
   "execution_count": 98,
   "metadata": {
    "collapsed": false
   },
   "outputs": [],
   "source": [
    "%matplotlib inline\n",
    "import numpy as np\n",
    "import scipy as sp\n",
    "import pandas as pd\n",
    "from scipy.io.arff import loadarff\n",
    "from sklearn.cross_validation import train_test_split\n",
    "from sklearn.feature_selection import RFECV, SelectFromModel\n",
    "import matplotlib.pyplot as plt\n",
    "import seaborn as sns\n",
    "import itertools\n",
    "from sklearn.svm import SVC\n",
    "from sklearn.model_selection import GridSearchCV, KFold\n",
    "from sklearn.preprocessing import StandardScaler, OneHotEncoder\n",
    "import time\n",
    "from sklearn.metrics import confusion_matrix, accuracy_score, roc_auc_score, roc_curve\n",
    "from sklearn.ensemble import RandomForestClassifier\n",
    "from sklearn.linear_model import LogisticRegression"
   ]
  },
  {
   "cell_type": "code",
   "execution_count": 99,
   "metadata": {
    "collapsed": false
   },
   "outputs": [
    {
     "data": {
      "text/plain": [
       "<matplotlib.figure.Figure at 0x1222d57d0>"
      ]
     },
     "execution_count": 99,
     "metadata": {},
     "output_type": "execute_result"
    },
    {
     "data": {
      "text/plain": [
       "<matplotlib.figure.Figure at 0x1222d57d0>"
      ]
     },
     "metadata": {},
     "output_type": "display_data"
    }
   ],
   "source": [
    "pd.options.display.max_rows = 20\n",
    "plt.figure(figsize=(16, 8))"
   ]
  },
  {
   "cell_type": "markdown",
   "metadata": {},
   "source": [
    "## Preprocessing the data "
   ]
  },
  {
   "cell_type": "code",
   "execution_count": 100,
   "metadata": {
    "collapsed": true
   },
   "outputs": [],
   "source": [
    "def arff2nparray(filepath):\n",
    "    \"\"\"Read arff file to pandas data frame. Skip header.\n",
    "\n",
    "    Parameters\n",
    "    ----------\n",
    "    filepath: string of the file path\n",
    "\n",
    "    Returns\n",
    "    -------\n",
    "    Numpy array of the data.\n",
    "    \"\"\"\n",
    "    f = open(filepath, 'rb')\n",
    "    dataset = loadarff(f)[0]\n",
    "    f.close()\n",
    "    return dataset"
   ]
  },
  {
   "cell_type": "code",
   "execution_count": 101,
   "metadata": {
    "collapsed": false
   },
   "outputs": [
    {
     "data": {
      "text/plain": [
       "array([('1', '1', '0', '1', '1', '0', '0', '0', '0', '0', '0'),\n",
       "       ('0', '1', '1', '0', '1', '0', '1', '0', '0', '0', '0'),\n",
       "       ('0', '0', '0', '1', '1', '1', '1', '1', '1', '1', '0'), ...,\n",
       "       ('1', '0', '0', '0', '1', '1', '1', '1', '2', '2', '0'),\n",
       "       ('0', '1', '2', '1', '0', '0', '1', '0', '0', '2', '1'),\n",
       "       ('1', '0', '0', '1', '1', '2', '0', '0', '0', '2', '0')], \n",
       "      dtype=[('location1', 'S1'), ('location2', 'S1'), ('location3', 'S1'), ('location4', 'S1'), ('location5', 'S1'), ('location6', 'S1'), ('location7', 'S1'), ('location8', 'S1'), ('location9', 'S1'), ('location10', 'S1'), ('class', 'S1')])"
      ]
     },
     "execution_count": 101,
     "metadata": {},
     "output_type": "execute_result"
    }
   ],
   "source": [
    "# Read in the .arff file and return a numpy record array\n",
    "dataset = arff2nparray(\"disease2a.arff\")\n",
    "dataset"
   ]
  },
  {
   "cell_type": "code",
   "execution_count": 102,
   "metadata": {
    "collapsed": true
   },
   "outputs": [],
   "source": [
    "def split_dataset(data):\n",
    "    \"\"\"Split data set into training and testing data sets.\n",
    "\n",
    "    Parameters\n",
    "    ----------\n",
    "    data: numpy.ndarray\n",
    "\n",
    "    Returns\n",
    "    -------\n",
    "    A tuple of train and test subsets\n",
    "    \"\"\"\n",
    "    features = np.hstack((data['location1'].astype(float).reshape(2000, 1), data['location2'].astype(float).reshape(2000, 1), \n",
    "           data['location3'].astype(float).reshape(2000, 1), data['location4'].astype(float).reshape(2000, 1),\n",
    "           data['location5'].astype(float).reshape(2000, 1), data['location6'].astype(float).reshape(2000, 1),\n",
    "           data['location7'].astype(float).reshape(2000, 1), data['location8'].astype(float).reshape(2000, 1),\n",
    "           data['location9'].astype(float).reshape(2000, 1), data['location10'].astype(float).reshape(2000, 1)))\n",
    "    outcome = data['class']\n",
    "    features_train, features_test, outcome_train, outcome_test = \\\n",
    "        train_test_split(features, outcome, test_size=0.2, random_state=1)\n",
    "    return features_train, features_test, outcome_train, outcome_test, features, outcome"
   ]
  },
  {
   "cell_type": "code",
   "execution_count": 103,
   "metadata": {
    "collapsed": false
   },
   "outputs": [
    {
     "data": {
      "text/plain": [
       "array([ 0.,  0.,  0., ...,  0.,  1.,  0.])"
      ]
     },
     "execution_count": 103,
     "metadata": {},
     "output_type": "execute_result"
    }
   ],
   "source": [
    "# split the data into features(X) and outcome(y)\n",
    "split_data = split_dataset(dataset)\n",
    "X = split_data[4].astype(float)\n",
    "y = split_data[5].astype(float)\n",
    "y"
   ]
  },
  {
   "cell_type": "code",
   "execution_count": 104,
   "metadata": {
    "collapsed": false
   },
   "outputs": [
    {
     "name": "stdout",
     "output_type": "stream",
     "text": [
      "[ 0.  1.  1. ...,  0.  1.  0.]\n"
     ]
    }
   ],
   "source": [
    "# Split the data into train and test sets\n",
    "X_train = split_data[0].astype(float)\n",
    "X_test = split_data[1].astype(float)\n",
    "y_train = split_data[2].astype(float)\n",
    "y_test = split_data[3].astype(float)\n",
    "print y_train"
   ]
  },
  {
   "cell_type": "code",
   "execution_count": 105,
   "metadata": {
    "collapsed": false
   },
   "outputs": [],
   "source": [
    "# convert the data from numpy array to pandas data frame\n",
    "pandas_data = pd.DataFrame(dataset)"
   ]
  },
  {
   "cell_type": "code",
   "execution_count": 106,
   "metadata": {
    "collapsed": false
   },
   "outputs": [],
   "source": [
    "# split the features from the pandas data frame\n",
    "pandas_features = pandas_data.iloc[:, 0:10]"
   ]
  },
  {
   "cell_type": "code",
   "execution_count": 107,
   "metadata": {
    "collapsed": false
   },
   "outputs": [
    {
     "name": "stdout",
     "output_type": "stream",
     "text": [
      "<class 'pandas.core.frame.DataFrame'>\n",
      "RangeIndex: 2000 entries, 0 to 1999\n",
      "Data columns (total 10 columns):\n",
      "location1     2000 non-null int64\n",
      "location2     2000 non-null int64\n",
      "location3     2000 non-null int64\n",
      "location4     2000 non-null int64\n",
      "location5     2000 non-null int64\n",
      "location6     2000 non-null int64\n",
      "location7     2000 non-null int64\n",
      "location8     2000 non-null int64\n",
      "location9     2000 non-null int64\n",
      "location10    2000 non-null int64\n",
      "dtypes: int64(10)\n",
      "memory usage: 156.3 KB\n"
     ]
    }
   ],
   "source": [
    "# make the data frame of features as numeric\n",
    "pandas_features_num = pandas_features.apply(lambda x: pd.to_numeric(x, errors='ignore'))\n",
    "pandas_features_num.info()"
   ]
  },
  {
   "cell_type": "code",
   "execution_count": 108,
   "metadata": {
    "collapsed": false
   },
   "outputs": [
    {
     "name": "stdout",
     "output_type": "stream",
     "text": [
      "OneHotEncoder(categorical_features='all', dtype=<type 'numpy.float64'>,\n",
      "       handle_unknown='error', n_values='auto', sparse=True)\n"
     ]
    }
   ],
   "source": [
    "#After reading in arff data to a numpy array of numpy array, but before the train/test split:\n",
    "enc = OneHotEncoder()\n",
    "data_hot_X = enc.fit(X) \n",
    "print data_hot_X\n",
    "X_hot = data_hot_X.transform(X).toarray()"
   ]
  },
  {
   "cell_type": "code",
   "execution_count": 109,
   "metadata": {
    "collapsed": false
   },
   "outputs": [],
   "source": [
    "# split the one-hot encoding data to training and testing data sets\n",
    "X_hot_train, X_hot_test, y_train, y_test = train_test_split(X_hot, y, test_size=0.2, random_state=1)"
   ]
  },
  {
   "cell_type": "markdown",
   "metadata": {},
   "source": [
    "## Summary Statistics"
   ]
  },
  {
   "cell_type": "code",
   "execution_count": 110,
   "metadata": {
    "collapsed": false
   },
   "outputs": [
    {
     "data": {
      "text/html": [
       "<div>\n",
       "<table border=\"1\" class=\"dataframe\">\n",
       "  <thead>\n",
       "    <tr style=\"text-align: right;\">\n",
       "      <th></th>\n",
       "      <th>location1</th>\n",
       "      <th>location2</th>\n",
       "      <th>location3</th>\n",
       "      <th>location4</th>\n",
       "      <th>location5</th>\n",
       "      <th>location6</th>\n",
       "      <th>location7</th>\n",
       "      <th>location8</th>\n",
       "      <th>location9</th>\n",
       "      <th>location10</th>\n",
       "    </tr>\n",
       "  </thead>\n",
       "  <tbody>\n",
       "    <tr>\n",
       "      <th>count</th>\n",
       "      <td>2000</td>\n",
       "      <td>2000</td>\n",
       "      <td>2000</td>\n",
       "      <td>2000</td>\n",
       "      <td>2000</td>\n",
       "      <td>2000</td>\n",
       "      <td>2000</td>\n",
       "      <td>2000</td>\n",
       "      <td>2000</td>\n",
       "      <td>2000</td>\n",
       "    </tr>\n",
       "    <tr>\n",
       "      <th>unique</th>\n",
       "      <td>3</td>\n",
       "      <td>3</td>\n",
       "      <td>3</td>\n",
       "      <td>3</td>\n",
       "      <td>3</td>\n",
       "      <td>3</td>\n",
       "      <td>3</td>\n",
       "      <td>3</td>\n",
       "      <td>3</td>\n",
       "      <td>3</td>\n",
       "    </tr>\n",
       "    <tr>\n",
       "      <th>top</th>\n",
       "      <td>0</td>\n",
       "      <td>0</td>\n",
       "      <td>1</td>\n",
       "      <td>0</td>\n",
       "      <td>1</td>\n",
       "      <td>1</td>\n",
       "      <td>0</td>\n",
       "      <td>0</td>\n",
       "      <td>0</td>\n",
       "      <td>1</td>\n",
       "    </tr>\n",
       "    <tr>\n",
       "      <th>freq</th>\n",
       "      <td>1025</td>\n",
       "      <td>1151</td>\n",
       "      <td>920</td>\n",
       "      <td>1319</td>\n",
       "      <td>1148</td>\n",
       "      <td>888</td>\n",
       "      <td>1148</td>\n",
       "      <td>1416</td>\n",
       "      <td>916</td>\n",
       "      <td>1166</td>\n",
       "    </tr>\n",
       "  </tbody>\n",
       "</table>\n",
       "</div>"
      ],
      "text/plain": [
       "       location1 location2 location3 location4 location5 location6 location7  \\\n",
       "count       2000      2000      2000      2000      2000      2000      2000   \n",
       "unique         3         3         3         3         3         3         3   \n",
       "top            0         0         1         0         1         1         0   \n",
       "freq        1025      1151       920      1319      1148       888      1148   \n",
       "\n",
       "       location8 location9 location10  \n",
       "count       2000      2000       2000  \n",
       "unique         3         3          3  \n",
       "top            0         0          1  \n",
       "freq        1416       916       1166  "
      ]
     },
     "execution_count": 110,
     "metadata": {},
     "output_type": "execute_result"
    }
   ],
   "source": [
    "pandas_features.describe()"
   ]
  },
  {
   "cell_type": "code",
   "execution_count": 111,
   "metadata": {
    "collapsed": false
   },
   "outputs": [
    {
     "data": {
      "text/html": [
       "<div>\n",
       "<table border=\"1\" class=\"dataframe\">\n",
       "  <thead>\n",
       "    <tr style=\"text-align: right;\">\n",
       "      <th></th>\n",
       "      <th>location1</th>\n",
       "      <th>location2</th>\n",
       "      <th>location3</th>\n",
       "      <th>location4</th>\n",
       "      <th>location5</th>\n",
       "      <th>location6</th>\n",
       "      <th>location7</th>\n",
       "      <th>location8</th>\n",
       "      <th>location9</th>\n",
       "      <th>location10</th>\n",
       "    </tr>\n",
       "  </thead>\n",
       "  <tbody>\n",
       "    <tr>\n",
       "      <th>count</th>\n",
       "      <td>2000.000000</td>\n",
       "      <td>2000.000000</td>\n",
       "      <td>2000.000000</td>\n",
       "      <td>2000.000000</td>\n",
       "      <td>2000.000000</td>\n",
       "      <td>2000.000000</td>\n",
       "      <td>2000.000000</td>\n",
       "      <td>2000.000000</td>\n",
       "      <td>2000.000000</td>\n",
       "      <td>2000.000000</td>\n",
       "    </tr>\n",
       "    <tr>\n",
       "      <th>mean</th>\n",
       "      <td>0.573500</td>\n",
       "      <td>0.483000</td>\n",
       "      <td>0.750000</td>\n",
       "      <td>0.380000</td>\n",
       "      <td>1.011000</td>\n",
       "      <td>0.688000</td>\n",
       "      <td>0.489000</td>\n",
       "      <td>0.317500</td>\n",
       "      <td>0.652500</td>\n",
       "      <td>0.981000</td>\n",
       "    </tr>\n",
       "    <tr>\n",
       "      <th>std</th>\n",
       "      <td>0.645605</td>\n",
       "      <td>0.605718</td>\n",
       "      <td>0.691187</td>\n",
       "      <td>0.561032</td>\n",
       "      <td>0.652757</td>\n",
       "      <td>0.677411</td>\n",
       "      <td>0.613243</td>\n",
       "      <td>0.517521</td>\n",
       "      <td>0.669304</td>\n",
       "      <td>0.645637</td>\n",
       "    </tr>\n",
       "    <tr>\n",
       "      <th>min</th>\n",
       "      <td>0.000000</td>\n",
       "      <td>0.000000</td>\n",
       "      <td>0.000000</td>\n",
       "      <td>0.000000</td>\n",
       "      <td>0.000000</td>\n",
       "      <td>0.000000</td>\n",
       "      <td>0.000000</td>\n",
       "      <td>0.000000</td>\n",
       "      <td>0.000000</td>\n",
       "      <td>0.000000</td>\n",
       "    </tr>\n",
       "    <tr>\n",
       "      <th>25%</th>\n",
       "      <td>0.000000</td>\n",
       "      <td>0.000000</td>\n",
       "      <td>0.000000</td>\n",
       "      <td>0.000000</td>\n",
       "      <td>1.000000</td>\n",
       "      <td>0.000000</td>\n",
       "      <td>0.000000</td>\n",
       "      <td>0.000000</td>\n",
       "      <td>0.000000</td>\n",
       "      <td>1.000000</td>\n",
       "    </tr>\n",
       "    <tr>\n",
       "      <th>50%</th>\n",
       "      <td>0.000000</td>\n",
       "      <td>0.000000</td>\n",
       "      <td>1.000000</td>\n",
       "      <td>0.000000</td>\n",
       "      <td>1.000000</td>\n",
       "      <td>1.000000</td>\n",
       "      <td>0.000000</td>\n",
       "      <td>0.000000</td>\n",
       "      <td>1.000000</td>\n",
       "      <td>1.000000</td>\n",
       "    </tr>\n",
       "    <tr>\n",
       "      <th>75%</th>\n",
       "      <td>1.000000</td>\n",
       "      <td>1.000000</td>\n",
       "      <td>1.000000</td>\n",
       "      <td>1.000000</td>\n",
       "      <td>1.000000</td>\n",
       "      <td>1.000000</td>\n",
       "      <td>1.000000</td>\n",
       "      <td>1.000000</td>\n",
       "      <td>1.000000</td>\n",
       "      <td>1.000000</td>\n",
       "    </tr>\n",
       "    <tr>\n",
       "      <th>max</th>\n",
       "      <td>2.000000</td>\n",
       "      <td>2.000000</td>\n",
       "      <td>2.000000</td>\n",
       "      <td>2.000000</td>\n",
       "      <td>2.000000</td>\n",
       "      <td>2.000000</td>\n",
       "      <td>2.000000</td>\n",
       "      <td>2.000000</td>\n",
       "      <td>2.000000</td>\n",
       "      <td>2.000000</td>\n",
       "    </tr>\n",
       "  </tbody>\n",
       "</table>\n",
       "</div>"
      ],
      "text/plain": [
       "         location1    location2    location3    location4    location5  \\\n",
       "count  2000.000000  2000.000000  2000.000000  2000.000000  2000.000000   \n",
       "mean      0.573500     0.483000     0.750000     0.380000     1.011000   \n",
       "std       0.645605     0.605718     0.691187     0.561032     0.652757   \n",
       "min       0.000000     0.000000     0.000000     0.000000     0.000000   \n",
       "25%       0.000000     0.000000     0.000000     0.000000     1.000000   \n",
       "50%       0.000000     0.000000     1.000000     0.000000     1.000000   \n",
       "75%       1.000000     1.000000     1.000000     1.000000     1.000000   \n",
       "max       2.000000     2.000000     2.000000     2.000000     2.000000   \n",
       "\n",
       "         location6    location7    location8    location9   location10  \n",
       "count  2000.000000  2000.000000  2000.000000  2000.000000  2000.000000  \n",
       "mean      0.688000     0.489000     0.317500     0.652500     0.981000  \n",
       "std       0.677411     0.613243     0.517521     0.669304     0.645637  \n",
       "min       0.000000     0.000000     0.000000     0.000000     0.000000  \n",
       "25%       0.000000     0.000000     0.000000     0.000000     1.000000  \n",
       "50%       1.000000     0.000000     0.000000     1.000000     1.000000  \n",
       "75%       1.000000     1.000000     1.000000     1.000000     1.000000  \n",
       "max       2.000000     2.000000     2.000000     2.000000     2.000000  "
      ]
     },
     "execution_count": 111,
     "metadata": {},
     "output_type": "execute_result"
    }
   ],
   "source": [
    "pandas_features_num.describe()"
   ]
  },
  {
   "cell_type": "markdown",
   "metadata": {},
   "source": [
    "## Histogram"
   ]
  },
  {
   "cell_type": "markdown",
   "metadata": {},
   "source": [
    "Histogram only plots numerical data, so using numerical data set to plot the histograms."
   ]
  },
  {
   "cell_type": "code",
   "execution_count": 112,
   "metadata": {
    "collapsed": false,
    "scrolled": false
   },
   "outputs": [
    {
     "data": {
      "text/plain": [
       "array([[<matplotlib.axes._subplots.AxesSubplot object at 0x122154d50>,\n",
       "        <matplotlib.axes._subplots.AxesSubplot object at 0x122494790>],\n",
       "       [<matplotlib.axes._subplots.AxesSubplot object at 0x12465d8d0>,\n",
       "        <matplotlib.axes._subplots.AxesSubplot object at 0x1246ebf90>],\n",
       "       [<matplotlib.axes._subplots.AxesSubplot object at 0x11bdbb1d0>,\n",
       "        <matplotlib.axes._subplots.AxesSubplot object at 0x1244a2190>],\n",
       "       [<matplotlib.axes._subplots.AxesSubplot object at 0x11bea9290>,\n",
       "        <matplotlib.axes._subplots.AxesSubplot object at 0x11f6e7550>],\n",
       "       [<matplotlib.axes._subplots.AxesSubplot object at 0x120668d90>,\n",
       "        <matplotlib.axes._subplots.AxesSubplot object at 0x1206e9e10>]], dtype=object)"
      ]
     },
     "execution_count": 112,
     "metadata": {},
     "output_type": "execute_result"
    },
    {
     "data": {
      "image/png": "[encoded data removed]",
      "text/plain": [
       "<matplotlib.figure.Figure at 0x122494fd0>"
      ]
     },
     "metadata": {},
     "output_type": "display_data"
    }
   ],
   "source": [
    "%matplotlib inline\n",
    "sns.set_style(\"darkgrid\")\n",
    "pandas_features_num.hist(layout=(5,2), figsize=(20, 10))"
   ]
  },
  {
   "cell_type": "markdown",
   "metadata": {},
   "source": [
    "Use the numerical data, we are able to calculate the correlations between the features and plot a heatmap for correlations."
   ]
  },
  {
   "cell_type": "code",
   "execution_count": 113,
   "metadata": {
    "collapsed": false
   },
   "outputs": [
    {
     "data": {
      "text/plain": [
       "<matplotlib.axes._subplots.AxesSubplot at 0x120783bd0>"
      ]
     },
     "execution_count": 113,
     "metadata": {},
     "output_type": "execute_result"
    },
    {
     "data": {
      "image/png": "[encoded data removed]",
      "text/plain": [
       "<matplotlib.figure.Figure at 0x1225a7c50>"
      ]
     },
     "metadata": {},
     "output_type": "display_data"
    }
   ],
   "source": [
    "# Compute the correlation matrix\n",
    "corr = pandas_features_num.corr()\n",
    "\n",
    "# Generate a mask for the upper triangle\n",
    "mask = np.zeros_like(corr, dtype=np.bool)\n",
    "mask[np.triu_indices_from(mask)] = True\n",
    "\n",
    "# Set up the matplotlib figure\n",
    "f, ax = plt.subplots(figsize=(11, 9))\n",
    "\n",
    "# Generate a custom diverging colormap\n",
    "cmap = sns.diverging_palette(220, 10, as_cmap=True)\n",
    "\n",
    "# Draw the heatmap with the mask and correct aspect ratio\n",
    "sns.heatmap(corr, mask=mask, cmap=cmap, vmax=.3,\n",
    "            square=True, xticklabels=5, yticklabels=5,\n",
    "            linewidths=.5, cbar_kws={\"shrink\": .5}, ax=ax)"
   ]
  },
  {
   "cell_type": "markdown",
   "metadata": {},
   "source": [
    "## Random Forest"
   ]
  },
  {
   "cell_type": "markdown",
   "metadata": {},
   "source": [
    "Use Random Forest to rank the variables. Also calculate the sensitivity, specificity, accuracy, f-score, and area under ROC curve."
   ]
  },
  {
   "cell_type": "markdown",
   "metadata": {},
   "source": [
    "Make a function for Random Forest classifier:"
   ]
  },
  {
   "cell_type": "code",
   "execution_count": 114,
   "metadata": {
    "collapsed": true
   },
   "outputs": [],
   "source": [
    "def RandomForest(X_train, X_test, y_train):\n",
    "    \"\"\"Compute a random forest classifier.\n",
    "\n",
    "    Parameters\n",
    "    ----------\n",
    "    X_train:\n",
    "        A numpy array of features from the training data set.\n",
    "    X_test:\n",
    "        A numpy array of features from the test data set.\n",
    "    y_train:\n",
    "        A numpy array of the outcomes from the training data set.\n",
    "\n",
    "    Returns\n",
    "    -------\n",
    "    A tuple of the random forest classifier and a numpy array of the predicted\n",
    "    label for the test data set.\n",
    "    \"\"\"\n",
    "    randomforest_classifier = RandomForestClassifier(n_estimators=100).fit(X_train, y_train)\n",
    "\n",
    "    # Perform classification on the test set\n",
    "    predict = randomforest_classifier.predict(X_test)\n",
    "    return randomforest_classifier, predict"
   ]
  },
  {
   "cell_type": "markdown",
   "metadata": {},
   "source": [
    "Create functions for calculating sensitivity, specificity, accuracy, area under ROC curve, and f-score:"
   ]
  },
  {
   "cell_type": "code",
   "execution_count": 118,
   "metadata": {
    "collapsed": true
   },
   "outputs": [],
   "source": [
    "def confussion_mat(y_test, y_pred):\n",
    "    \"\"\"The function takes two parameters, a numpy array/matrix of the test data,\n",
    "    and a numpy array of the predicted value of the test data.\n",
    "    \n",
    "    Given these inputs, you will calculate and return the confussion matrix of the\n",
    "    classification.\n",
    "    \"\"\"\n",
    "    cm = confusion_matrix(y_test, y_pred)\n",
    "    return cm\n",
    "    \n",
    "def sensitivity(y_test, y_pred):\n",
    "    \"\"\"This function takes two parameters, a numpy array/matrix of the test data,\n",
    "    and a numpy array of the predicted value of the test data.\n",
    "\n",
    "    Given these inputs, you will calculate and return the sensitivity of the\n",
    "    classification.\n",
    "\n",
    "    Your function will return the calculated value as a float.\"\"\"\n",
    "    # Calculate confusion matrix and sensitivity of classification\n",
    "    cm = confusion_matrix(y_test, y_pred)\n",
    "    tp = cm[1, 1]\n",
    "    fn = cm[1, 0]\n",
    "    sensitivity = float(tp) / float(tp + fn)\n",
    "    return sensitivity\n",
    "\n",
    "\n",
    "def specificity(y_test, y_pred):\n",
    "    \"\"\"This function takes two parameters, a numpy array/matrix of the test data,\n",
    "    and a numpy array of the predicted value of the test data.\n",
    "\n",
    "    Given these inputs, you will calculate and return the specificity of the\n",
    "    classification.\n",
    "\n",
    "    Your function will return the calculated value as a float.\"\"\"\n",
    "    # Calculate confusion matrix and sensitivity of classification\n",
    "    cm = confusion_matrix(y_test, y_pred)\n",
    "    tn = cm[0, 0]\n",
    "    fp = cm[0, 1]\n",
    "    specificity = float(tn) / float(tn + fp)\n",
    "    return specificity\n",
    "\n",
    "\n",
    "def acc(y_test, y_pred):\n",
    "    \"\"\"Calculate the accuracy.\n",
    "\n",
    "    Parameters\n",
    "    ----------\n",
    "    test_data: A numpy array of test dataset\n",
    "    y_pred: a numpy array of the predicted target values for X_test.\n",
    "\n",
    "    Returns\n",
    "    -------\n",
    "    numpy.float64 of the accuracy\n",
    "    \"\"\"\n",
    "    accuracy = accuracy_score(y_test, y_pred)\n",
    "    return accuracy\n",
    "\n",
    "\n",
    "def auc(model, scaled_feature_test, outcome_test):\n",
    "    \"\"\"This function takes two parameters, the model (for the purpose of this assignment,\n",
    "    this will be an instance of sklearn.svm.SVC and sklearn.linear_model.LogisticRegression), \n",
    "    and a numpy array/matrix of the test data.\n",
    "\n",
    "    Given these inputs, you will calculate and return the area under the ROC\n",
    "    curve of the classification.\n",
    "\n",
    "    Your function will return the calculated value as a float.\"\"\"\n",
    "    # Apply model to predict confidence scores for samples\n",
    "    y_score = model.decision_function(scaled_feature_test)\n",
    "\n",
    "    # Calculate the area under the ROC curve\n",
    "    area_under_roc = roc_auc_score(outcome_test, y_score)\n",
    "    return area_under_roc\n",
    "\n",
    "\n",
    "def auc_predict_proba(model, scaled_feature_test, outcome_test):\n",
    "    \"\"\"This function takes two parameters, the model (for the purpose of this assignment,\n",
    "    this will be an instance of sklearn.ensemble.RandomForestClassifier), \n",
    "    and a numpy array/matrix of the test data.\n",
    "\n",
    "    Given these inputs, you will calculate and return the area under the ROC\n",
    "    curve of the classification.\n",
    "    \n",
    "    Your function will return the calculated value as a float.\"\"\"\n",
    "    # Apply model to predict confidence scores for samples\n",
    "    y_score = model.predict_proba(scaled_feature_test)\n",
    "\n",
    "    # Calculate the area under the ROC curve\n",
    "    area_under_roc = roc_auc_score(outcome_test, y_score[:, 1])\n",
    "    return area_under_roc\n",
    "\n",
    "\n",
    "def f(y_pred, outcome_test, beta=1.0):\n",
    "    \"\"\"This function takes three parameters, the model, a numpy array/matrix\n",
    "    of the test data, and a beta value to be used in calculating the F-score.\n",
    "\n",
    "    Beta defaults to 1 if not specified (thus returning the F1 score)\n",
    "\n",
    "    Given these inputs, you will caluclate and return the F score of the\n",
    "    classification. \n",
    "    \n",
    "    Your function will return the calculated value as a float.\"\"\"\n",
    "    # Calculate the confusion matrix and the F score of the classification\n",
    "    cm = confusion_matrix(outcome_test, y_pred)\n",
    "    tp = float(cm[1, 1])\n",
    "    fn = float(cm[1, 0])\n",
    "    fp = float(cm[0, 1])\n",
    "\n",
    "    f_score = (float(1 + beta ** 2) * tp) / ((1 + beta ** 2) * tp + beta ** 2 * fn + fp)\n",
    "    return f_score\n"
   ]
  },
  {
   "cell_type": "markdown",
   "metadata": {},
   "source": [
    "Using numerical data to do the feature ranking:"
   ]
  },
  {
   "cell_type": "code",
   "execution_count": 119,
   "metadata": {
    "collapsed": false
   },
   "outputs": [
    {
     "name": "stdout",
     "output_type": "stream",
     "text": [
      "Random Forest:\n",
      "The accuracy is: 0.7825\n",
      "The sensitivity is: 0.86976744186\n",
      "The specificity is: 0.681081081081\n",
      "The F1 score is: 0.811279826464\n",
      "The AUC is: 0.808120678818\n",
      "The number of features when fit is performed: 10\n",
      "\n",
      "Feature Ranking (Random Forest):\n",
      "1. feature 9 (0.231778)\n",
      "2. feature 4 (0.225769)\n",
      "3. feature 2 (0.079690)\n",
      "4. feature 8 (0.076773)\n",
      "5. feature 1 (0.071461)\n",
      "6. feature 5 (0.066344)\n",
      "7. feature 6 (0.064886)\n",
      "8. feature 0 (0.062155)\n",
      "9. feature 3 (0.061840)\n",
      "10. feature 7 (0.059304)\n"
     ]
    }
   ],
   "source": [
    "# Random Forest\n",
    "random_forest = RandomForest(X_train, X_test, y_train)\n",
    "estimator_rf = random_forest[0]\n",
    "y_predict_rf = random_forest[1]\n",
    "feature_importance = estimator_rf.feature_importances_\n",
    "n_feature = estimator_rf.n_features_\n",
    "\n",
    "# Calculate the accuracy, sensitivity, specificity, f1-score, and AUC\n",
    "accurate_rf = acc(y_test, y_predict_rf)\n",
    "sen_rf = sensitivity(y_test, y_predict_rf)\n",
    "spec_rf = specificity(y_test, y_predict_rf)\n",
    "f1_rf = f(y_predict_rf, y_test)\n",
    "area_under_roc_rf = auc_predict_proba(estimator_rf, X_test, y_test)\n",
    "\n",
    "print 'Random Forest:'\n",
    "print 'The accuracy is: %s' % accurate_rf\n",
    "print 'The sensitivity is: %s' % sen_rf\n",
    "print 'The specificity is: %s' % spec_rf\n",
    "print 'The F1 score is: %s' % f1_rf\n",
    "print 'The AUC is: %s' % area_under_roc_rf\n",
    "print 'The number of features when fit is performed: %s' % n_feature\n",
    "print\n",
    "\n",
    "indice = np.argsort(feature_importance)[::-1]\n",
    "\n",
    "# Print the feature ranking\n",
    "print(\"Feature Ranking (Random Forest):\")\n",
    "\n",
    "for feature in range(X_train.shape[1]):\n",
    "    print(\"%d. feature %d (%f)\" % (feature + 1, indice[feature], feature_importance[indice[feature]]))\n"
   ]
  },
  {
   "cell_type": "markdown",
   "metadata": {},
   "source": [
    "From the results, location 5, location 10, and location 3 are the most important three features."
   ]
  },
  {
   "cell_type": "markdown",
   "metadata": {},
   "source": [
    "Feed in the catogorical (one-hot) data to implement the random forest classifier:"
   ]
  },
  {
   "cell_type": "code",
   "execution_count": 123,
   "metadata": {
    "collapsed": false
   },
   "outputs": [
    {
     "name": "stdout",
     "output_type": "stream",
     "text": [
      "Random Forest:\n",
      "The accuracy is: 0.7775\n",
      "The sensitivity is: 0.860465116279\n",
      "The specificity is: 0.681081081081\n",
      "The F1 score is: 0.806100217865\n",
      "The AUC is: 0.81795097423\n",
      "The number of features when fit is performed: 30\n",
      "\n"
     ]
    }
   ],
   "source": [
    "# Random Forest\n",
    "random_forest = RandomForest(X_hot_train, X_hot_test, y_train)\n",
    "estimator_rf = random_forest[0]\n",
    "y_predict_rf = random_forest[1]\n",
    "n_feature = estimator_rf.n_features_\n",
    "\n",
    "# Calculate the accuracy, sensitivity, specificity, f1-score, and AUC\n",
    "accurate_rf = acc(y_test, y_predict_rf)\n",
    "sen_rf = sensitivity(y_test, y_predict_rf)\n",
    "spec_rf = specificity(y_test, y_predict_rf)\n",
    "f1_rf = f(y_predict_rf, y_test)\n",
    "area_under_roc_rf = auc_predict_proba(estimator_rf, X_hot_test, y_test)\n",
    "\n",
    "print 'Random Forest:'\n",
    "print 'The accuracy is: %s' % accurate_rf\n",
    "print 'The sensitivity is: %s' % sen_rf\n",
    "print 'The specificity is: %s' % spec_rf\n",
    "print 'The F1 score is: %s' % f1_rf\n",
    "print 'The AUC is: %s' % area_under_roc_rf\n",
    "print 'The number of features when fit is performed: %s' % n_feature\n",
    "print"
   ]
  },
  {
   "cell_type": "code",
   "execution_count": 125,
   "metadata": {
    "collapsed": false
   },
   "outputs": [
    {
     "name": "stdout",
     "output_type": "stream",
     "text": [
      "Confusion matrix, without normalization\n",
      "[[126  59]\n",
      " [ 30 185]]\n",
      "Normalized confusion matrix\n",
      "[[ 0.68  0.32]\n",
      " [ 0.14  0.86]]\n"
     ]
    },
    {
     "data": {
      "image/png": "[encoded data removed]",
      "text/plain": [
       "<matplotlib.figure.Figure at 0x1257ca050>"
      ]
     },
     "metadata": {},
     "output_type": "display_data"
    },
    {
     "data": {
      "image/png": "[encoded data removed]",
      "text/plain": [
       "<matplotlib.figure.Figure at 0x11be53c10>"
      ]
     },
     "metadata": {},
     "output_type": "display_data"
    }
   ],
   "source": [
    "def plot_confusion_matrix(cm, classes,\n",
    "                          normalize=False,\n",
    "                          title='Confusion matrix',\n",
    "                          cmap=plt.cm.Blues):\n",
    "    \"\"\"\n",
    "    This function prints and plots the confusion matrix.\n",
    "    Normalization can be applied by setting `normalize=True`.\n",
    "    \"\"\"\n",
    "    plt.imshow(cm, interpolation='nearest', cmap=cmap)\n",
    "    plt.title(title)\n",
    "    plt.colorbar()\n",
    "    tick_marks = np.arange(len(classes))\n",
    "    plt.xticks(tick_marks, classes, rotation=45)\n",
    "    plt.yticks(tick_marks, classes)\n",
    "\n",
    "    if normalize:\n",
    "        cm = cm.astype('float') / cm.sum(axis=1)[:, np.newaxis]\n",
    "        print(\"Normalized confusion matrix\")\n",
    "    else:\n",
    "        print('Confusion matrix, without normalization')\n",
    "\n",
    "    print(cm)\n",
    "\n",
    "    thresh = cm.max() / 2.\n",
    "    for i, j in itertools.product(range(cm.shape[0]), range(cm.shape[1])):\n",
    "        plt.text(j, i, cm[i, j],\n",
    "                 horizontalalignment=\"center\",\n",
    "                 color=\"white\" if cm[i, j] > thresh else \"black\")\n",
    "\n",
    "    plt.tight_layout()\n",
    "    plt.ylabel('True label')\n",
    "    plt.xlabel('Predicted label')\n",
    "\n",
    "# Compute confusion matrix\n",
    "cnf_matrix = confusion_matrix(y_test, y_predict_rf)\n",
    "np.set_printoptions(precision=2)\n",
    "\n",
    "# Plot non-normalized confusion matrix\n",
    "plt.figure()\n",
    "plot_confusion_matrix(cnf_matrix, classes=['neg', 'pos'],\n",
    "                      title='Confusion matrix, without normalization')\n",
    "\n",
    "# Plot normalized confusion matrix\n",
    "plt.figure()\n",
    "plot_confusion_matrix(cnf_matrix, classes=['neg', 'pos'], normalize=True,\n",
    "                      title='Normalized confusion matrix')\n",
    "\n",
    "plt.show()"
   ]
  },
  {
   "cell_type": "markdown",
   "metadata": {},
   "source": [
    "The results of random forest from both numerical features and categorical features are very similar. Both have accuracy close to 0.77 and AUC close to 0.80."
   ]
  },
  {
   "cell_type": "markdown",
   "metadata": {},
   "source": [
    "Plot the ROC curve for Random Forest:"
   ]
  },
  {
   "cell_type": "code",
   "execution_count": 73,
   "metadata": {
    "collapsed": false
   },
   "outputs": [
    {
     "data": {
      "image/png": "[encoded data removed]",
      "text/plain": [
       "<matplotlib.figure.Figure at 0x122693bd0>"
      ]
     },
     "metadata": {},
     "output_type": "display_data"
    }
   ],
   "source": [
    "# Calculate the decision function of test set\n",
    "y_score = estimator_rf.predict_proba(X_hot_test)\n",
    "y_true = y_test\n",
    "\n",
    "# Calculate the false positive rate,  the true positive rate and the area\n",
    "# under ROC curve\n",
    "fpr_rf, tpr_rf, thresholds = roc_curve(y_true, y_score[:, 1])\n",
    "roc_auc = roc_auc_score(y_true, y_score[:, 1])\n",
    "\n",
    "# Plot\n",
    "plt.plot(fpr_rf, tpr_rf, label='ROC curve (area = %0.2f)' % roc_auc)\n",
    "\n",
    "# Plot black dashed line (k=black) from (0,0) to (1,1)\n",
    "plt.plot([0, 1], [0, 1], 'k--')\n",
    "\n",
    "# Set x and y ranges, labels, title and legend\n",
    "plt.xlim([-0.05, 1])\n",
    "plt.ylim([0, 1.05])\n",
    "plt.xlabel('False Positive Rate')\n",
    "plt.ylabel('True Positive Rate')\n",
    "plt.title('Receiver operating characteristic')\n",
    "plt.legend(loc=\"lower right\")\n",
    "plt.show()\n",
    "# plot_roc(estimator_rf, X_hot_test, y_test)"
   ]
  },
  {
   "cell_type": "markdown",
   "metadata": {},
   "source": [
    "## Support Vector Machine (SVM)"
   ]
  },
  {
   "cell_type": "markdown",
   "metadata": {},
   "source": [
    "Use grid search to get the best parameters:"
   ]
  },
  {
   "cell_type": "code",
   "execution_count": 34,
   "metadata": {
    "collapsed": true
   },
   "outputs": [],
   "source": [
    "def svm_grid_search(X, y, parameters):\n",
    "    \"\"\"Use GridSearchCV to find the \"best\" SVM classifier.\n",
    "\n",
    "    Parameters\n",
    "    ----------\n",
    "    X:\n",
    "        A numpy array of the features from training data set.\n",
    "    y:\n",
    "        A numpy array of the outcomes from training data set.\n",
    "    parameters:\n",
    "        A python dictionary of the parameters using to build the svm model. \n",
    "\n",
    "    Returns\n",
    "    -------\n",
    "    A dictionary of the parameters of the best SVM classifier.\n",
    "    \"\"\"\n",
    "    cv = KFold(n_splits=5, random_state=1)\n",
    "    clf = GridSearchCV(SVC(), parameters, n_jobs=-1, cv=cv)\n",
    "    clf.fit(X, y)\n",
    "    best_clf = clf.best_params_\n",
    "    return best_clf"
   ]
  },
  {
   "cell_type": "markdown",
   "metadata": {},
   "source": [
    "* Find out the best parameters for SVM with rbf kernel"
   ]
  },
  {
   "cell_type": "code",
   "execution_count": 35,
   "metadata": {
    "collapsed": false
   },
   "outputs": [
    {
     "name": "stdout",
     "output_type": "stream",
     "text": [
      "The computing time for gird search is: 5.5096487999\n",
      "The best SVM classifier is: {'kernel': 'rbf', 'C': 1, 'gamma': 0.1}\n"
     ]
    }
   ],
   "source": [
    "t0 = time.time()\n",
    "# Use GridSearchCV to find the \"best\" SVM classifier for rbf kernel\n",
    "parameters = [{'kernel': ['rbf'], 'C': [0.01, 0.1, 1, 10],\n",
    "                   'gamma': [0.001, 0.01, 0.1, 1]}]\n",
    "best_rbf = svm_grid_search(X_hot_train, y_train, parameters)\n",
    "computing_time = time.time() - t0\n",
    "print 'The computing time for gird search is: %s' % computing_time\n",
    "print 'The best SVM classifier is: %s' % best_rbf"
   ]
  },
  {
   "cell_type": "markdown",
   "metadata": {
    "collapsed": false
   },
   "source": [
    "* Find out the best parameters for SVM with poly kernel"
   ]
  },
  {
   "cell_type": "code",
   "execution_count": 39,
   "metadata": {
    "collapsed": false
   },
   "outputs": [
    {
     "name": "stdout",
     "output_type": "stream",
     "text": [
      "The computing time for gird search is: 35.6751849651\n",
      "The best SVM classifier for polynominal kernel of degree 2, C=1 is: {'kernel': 'poly', 'C': 0.01, 'gamma': 1, 'degree': 2}\n"
     ]
    }
   ],
   "source": [
    "t0 = time.time()\n",
    "# Use GridSearchCV to find the \"best\" SVM classifier for polynominal kernel, degree 2, C=1\n",
    "parameters = [{'kernel': ['poly'], 'C': [0.01, 0.1, 1, 10],\n",
    "                   'gamma': [0.001, 0.01, 0.1, 1],\n",
    "                   'degree': [2]}]\n",
    "best = svm_grid_search(X_hot_train, y_train, parameters)\n",
    "computing_time = time.time() - t0\n",
    "print 'The computing time for gird search is: %s' % computing_time\n",
    "print 'The best SVM classifier for polynominal kernel of degree 2, C=1 is: %s' % best"
   ]
  },
  {
   "cell_type": "code",
   "execution_count": 40,
   "metadata": {
    "collapsed": false
   },
   "outputs": [
    {
     "name": "stdout",
     "output_type": "stream",
     "text": [
      "The computing time for gird search is: 30.1736979485\n",
      "The best SVM classifier for polynominal kernel of degree 3 is: {'kernel': 'poly', 'C': 1, 'gamma': 0.1, 'degree': 3}\n"
     ]
    }
   ],
   "source": [
    "t0 = time.time()\n",
    "# Use GridSearchCV to find the \"best\" SVM classifier for polynominal kernel, degree 3\n",
    "parameters = [{'kernel': ['poly'], 'C': [0.01, 0.1, 1, 10],\n",
    "                   'gamma': [0.001, 0.01, 0.1, 1],\n",
    "                   'degree': [3]}]\n",
    "best = svm_grid_search(X_hot_train, y_train, parameters)\n",
    "computing_time = time.time() - t0\n",
    "print 'The computing time for gird search is: %s' % computing_time\n",
    "print 'The best SVM classifier for polynominal kernel of degree 3 is: %s' % best"
   ]
  },
  {
   "cell_type": "code",
   "execution_count": 42,
   "metadata": {
    "collapsed": false
   },
   "outputs": [
    {
     "name": "stdout",
     "output_type": "stream",
     "text": [
      "The computing time for gird search is: 8.3379778862\n",
      "The best SVM classifier for polynominal kernel: {'kernel': 'poly', 'C': 0.01, 'gamma': 1, 'degree': 2}\n"
     ]
    }
   ],
   "source": [
    "t0 = time.time()\n",
    "# Use GridSearchCV to find the \"best\" SVM classifier for polynominal kernel, degree 3\n",
    "parameters = [{'kernel': ['poly'], 'C': [0.01, 1],\n",
    "                   'gamma': [0.1, 1],\n",
    "                   'degree': [2, 3]}]\n",
    "best_poly = svm_grid_search(X_hot_train, y_train, parameters)\n",
    "computing_time = time.time() - t0\n",
    "print 'The computing time for gird search is: %s' % computing_time\n",
    "print 'The best SVM classifier for polynominal kernel: %s' % best_poly"
   ]
  },
  {
   "cell_type": "markdown",
   "metadata": {},
   "source": [
    "Create functions to use a support vector machine (SVM) and two different kernels (rbf and polynomial). "
   ]
  },
  {
   "cell_type": "code",
   "execution_count": 61,
   "metadata": {
    "collapsed": true
   },
   "outputs": [],
   "source": [
    "def RBF_SVM(X_train, X_test, y_train, C, gamma):\n",
    "    \"\"\"Compute the C-Support Vector Classification when kernel='rbf'.\n",
    "\n",
    "    Parameters\n",
    "    ----------\n",
    "    X_train: \n",
    "        numpy array of scaled features from training data set\n",
    "    X_test: \n",
    "        numpy array of scaled features from test data set\n",
    "    y_train: \n",
    "        numpy array of outcome from training data set\n",
    "    C: \n",
    "        float, optional (default=1.0). Penalty parameter C of the error term.\n",
    "    gamma: \n",
    "        float, optional (default=’auto’). Kernel coefficient \n",
    "        for ‘rbf’, ‘poly’ and ‘sigmoid’. If gamma is ‘auto’ then\n",
    "        1/n_features will be used instead.\n",
    "\n",
    "    Returns\n",
    "    -------\n",
    "    A tuple of fitted model and prediction of the test set.\n",
    "    \"\"\"\n",
    "    clf = SVC(kernel='rbf', C=C, gamma=gamma).fit(X_train, y_train)\n",
    "    predict = clf.predict(X_test)\n",
    "    return clf, predict\n",
    "\n",
    "\n",
    "def svm_poly(X_train, X_test, y_train, C, gamma):\n",
    "    \"\"\"Compute the C-Support Vector Classification.\n",
    "\n",
    "    Parameters\n",
    "    ----------\n",
    "    X_train: numpy array of scaled features from training data set\n",
    "    X_test: numpy array of scaled features from test data set\n",
    "    y_train: numpy array of outcome from training data set\n",
    "    C: float, penalty parameter C of the error term.\n",
    "    gamma: float, kernel coefficient for 'rbf', 'poly' and 'sigmoid'.\n",
    "\n",
    "    Returns\n",
    "    -------\n",
    "    A tuple of fitted model and prediction of the test set.\n",
    "    \"\"\"\n",
    "    svc_clf = SVC(kernel='poly', C=C, gamma=gamma).fit(X_train, y_train)\n",
    "    predict = svc_clf.predict(X_test)\n",
    "    return svc_clf, predict"
   ]
  },
  {
   "cell_type": "code",
   "execution_count": 64,
   "metadata": {
    "collapsed": false
   },
   "outputs": [
    {
     "name": "stdout",
     "output_type": "stream",
     "text": [
      "\n",
      "RBF SVM:\n",
      "The accuracy is: 0.8025\n",
      "The sensitivity is: 0.948837209302\n",
      "The specificity is: 0.632432432432\n",
      "The F1 score is: 0.837782340862\n",
      "The AUC is: 0.775964802011\n"
     ]
    }
   ],
   "source": [
    "## RBF SVM\n",
    "rbf_clf = RBF_SVM(X_hot_train, X_hot_test, y_train, C=best_rbf['C'], gamma=best_rbf['gamma'])\n",
    "estimator_rbf = rbf_clf[0]\n",
    "y_predict_rbf = rbf_clf[1]\n",
    "\n",
    "# Calculate the accuracy, sensitivity, specificity, f1-score, and AUC\n",
    "accurate_rbf = acc(y_test, y_predict_rbf)\n",
    "sen_rbf = sensitivity(y_test, y_predict_rbf)\n",
    "spec_rbf = specificity(y_test, y_predict_rbf)\n",
    "f1_rbf = f(y_predict_rbf, y_test)\n",
    "area_under_roc_rbf = auc(estimator_rbf, X_hot_test, y_test)\n",
    "\n",
    "print\n",
    "print 'RBF SVM:'\n",
    "print 'The accuracy is: %s' % accurate_rbf\n",
    "print 'The sensitivity is: %s' % sen_rbf\n",
    "print 'The specificity is: %s' % spec_rbf\n",
    "print 'The F1 score is: %s' % f1_rbf\n",
    "print 'The AUC is: %s' % area_under_roc_rbf"
   ]
  },
  {
   "cell_type": "markdown",
   "metadata": {},
   "source": [
    "Compute confusion matrix for SVM with rbf kernel"
   ]
  },
  {
   "cell_type": "code",
   "execution_count": 126,
   "metadata": {
    "collapsed": false
   },
   "outputs": [
    {
     "name": "stdout",
     "output_type": "stream",
     "text": [
      "Confusion matrix, without normalization\n",
      "[[117  68]\n",
      " [ 11 204]]\n",
      "Normalized confusion matrix\n",
      "[[ 0.63  0.37]\n",
      " [ 0.05  0.95]]\n"
     ]
    },
    {
     "data": {
      "image/png": "[encoded data removed]",
      "text/plain": [
       "<matplotlib.figure.Figure at 0x121259a50>"
      ]
     },
     "metadata": {},
     "output_type": "display_data"
    },
    {
     "data": {
      "image/png": "[encoded data removed]",
      "text/plain": [
       "<matplotlib.figure.Figure at 0x122221950>"
      ]
     },
     "metadata": {},
     "output_type": "display_data"
    }
   ],
   "source": [
    "# Compute confusion matrix\n",
    "cnf_matrix = confusion_matrix(y_test, y_predict_rbf)\n",
    "np.set_printoptions(precision=2)\n",
    "\n",
    "# Plot non-normalized confusion matrix\n",
    "plt.figure()\n",
    "plot_confusion_matrix(cnf_matrix, classes=['neg', 'pos'],\n",
    "                      title='Confusion matrix, without normalization')\n",
    "\n",
    "# Plot normalized confusion matrix\n",
    "plt.figure()\n",
    "plot_confusion_matrix(cnf_matrix, classes=['neg', 'pos'], normalize=True,\n",
    "                      title='Normalized confusion matrix')\n",
    "\n",
    "plt.show()"
   ]
  },
  {
   "cell_type": "code",
   "execution_count": 62,
   "metadata": {
    "collapsed": false
   },
   "outputs": [
    {
     "name": "stdout",
     "output_type": "stream",
     "text": [
      "Poly SVC:\n",
      "The accuracy is: 0.7675\n",
      "The sensitivity is: 0.879069767442\n",
      "The specificity is: 0.637837837838\n",
      "The F1 score is: 0.802547770701\n",
      "The AUC is: 0.79024512885\n"
     ]
    }
   ],
   "source": [
    "## SVM Poly\n",
    "svc_clf = svm_poly(X_hot_train, X_hot_test, y_train, C=best_poly['C'], gamma=best_poly['gamma'])\n",
    "estimator = svc_clf[0]\n",
    "y_predict = svc_clf[1]\n",
    "\n",
    "# Calculate the accuracy, sensitivity, specificity, f1-score, and AUC\n",
    "accurate = acc(y_test, y_predict)\n",
    "sen = sensitivity(y_test, y_predict)\n",
    "spec = specificity(y_test, y_predict)\n",
    "f1 = f(y_predict, y_test)\n",
    "area_under_roc = auc(estimator, X_hot_test, y_test)\n",
    "\n",
    "print 'Poly SVC:'\n",
    "print 'The accuracy is: %s' % accurate\n",
    "print 'The sensitivity is: %s' % sen\n",
    "print 'The specificity is: %s' % spec\n",
    "print 'The F1 score is: %s' % f1\n",
    "print 'The AUC is: %s' % area_under_roc"
   ]
  },
  {
   "cell_type": "markdown",
   "metadata": {},
   "source": [
    "Compute confusion matrix for SVM with poly kernel"
   ]
  },
  {
   "cell_type": "code",
   "execution_count": 127,
   "metadata": {
    "collapsed": false
   },
   "outputs": [
    {
     "name": "stdout",
     "output_type": "stream",
     "text": [
      "Confusion matrix, without normalization\n",
      "[[118  67]\n",
      " [ 26 189]]\n",
      "Normalized confusion matrix\n",
      "[[ 0.64  0.36]\n",
      " [ 0.12  0.88]]\n"
     ]
    },
    {
     "data": {
      "image/png": "[encoded data removed]",
      "text/plain": [
       "<matplotlib.figure.Figure at 0x124f07cd0>"
      ]
     },
     "metadata": {},
     "output_type": "display_data"
    },
    {
     "data": {
      "image/png": "[encoded data removed]",
      "text/plain": [
       "<matplotlib.figure.Figure at 0x124876790>"
      ]
     },
     "metadata": {},
     "output_type": "display_data"
    }
   ],
   "source": [
    "# Compute confusion matrix\n",
    "cnf_matrix = confusion_matrix(y_test, y_predict)\n",
    "np.set_printoptions(precision=2)\n",
    "\n",
    "# Plot non-normalized confusion matrix\n",
    "plt.figure()\n",
    "plot_confusion_matrix(cnf_matrix, classes=['neg', 'pos'],\n",
    "                      title='Confusion matrix, without normalization')\n",
    "\n",
    "# Plot normalized confusion matrix\n",
    "plt.figure()\n",
    "plot_confusion_matrix(cnf_matrix, classes=['neg', 'pos'], normalize=True,\n",
    "                      title='Normalized confusion matrix')\n",
    "\n",
    "plt.show()"
   ]
  },
  {
   "cell_type": "markdown",
   "metadata": {},
   "source": [
    "From the results of support vector machine, we can see that the rbf kernel has a higher accuracy, but the poly kernel has a higher AUC. However, the results from both models do no show a big difference."
   ]
  },
  {
   "cell_type": "code",
   "execution_count": 55,
   "metadata": {
    "collapsed": true
   },
   "outputs": [],
   "source": [
    "def plot_roc(model, scaled_feature_test, outcome_test):\n",
    "    \"\"\"This function takes two parameters, the model, and a numpy array/matrix\n",
    "    of the test data.\n",
    "\n",
    "    1. Plot the false positive rate against the true positive rate\n",
    "    2. Plot a straight line from the point (0,0) to (1,1)\n",
    "    3. Set the X axis to the range [-0.05, 1]\n",
    "    4. Set the Y axis to the range [0, 1.05]\n",
    "    5. Add X axis label of \"False Positive Rate\"\n",
    "    6. Add Y axis label of \"True Positive Rate\"\n",
    "    7. Add a label \"ROC curve (area = XX)\" for the FPR/TPR plot\n",
    "    8. Position the label at the lower right corner\n",
    "    9. Add a title of your choosing\n",
    "    10. Call show() to display your plot\"\"\"\n",
    "    \n",
    "    # Calculate the decision function of test set\n",
    "    y_score = model.decision_function(scaled_feature_test)\n",
    "    y_true = outcome_test\n",
    "\n",
    "    # Calculate the false positive rate,  the true positive rate and the area\n",
    "    # under ROC curve\n",
    "    fpr, tpr, thresholds = roc_curve(y_true, y_score)\n",
    "    roc_auc = roc_auc_score(outcome_test, y_score)\n",
    "\n",
    "    # Plot\n",
    "    plt.plot(fpr, tpr, label='ROC curve (area = %0.2f)' % roc_auc)\n",
    "\n",
    "    # Plot black dashed line (k=black) from (0,0) to (1,1)\n",
    "    plt.plot([0, 1], [0, 1], 'k--')\n",
    "\n",
    "    # Set x and y ranges, labels, title and legend\n",
    "    plt.xlim([-0.05, 1])\n",
    "    plt.ylim([0, 1.05])\n",
    "    plt.xlabel('False Positive Rate')\n",
    "    plt.ylabel('True Positive Rate')\n",
    "    plt.title('Receiver operating characteristic')\n",
    "    plt.legend(loc=\"lower right\")\n",
    "    plt.show()"
   ]
  },
  {
   "cell_type": "markdown",
   "metadata": {},
   "source": [
    "Plot a ROC curve for SVM with rbf kernel:"
   ]
  },
  {
   "cell_type": "code",
   "execution_count": 79,
   "metadata": {
    "collapsed": false
   },
   "outputs": [
    {
     "data": {
      "text/plain": [
       "<matplotlib.legend.Legend at 0x1235fbf90>"
      ]
     },
     "execution_count": 79,
     "metadata": {},
     "output_type": "execute_result"
    },
    {
     "data": {
      "image/png": "[encoded data removed]",
      "text/plain": [
       "<matplotlib.figure.Figure at 0x1222a1050>"
      ]
     },
     "metadata": {},
     "output_type": "display_data"
    }
   ],
   "source": [
    "# Calculate the decision function of test set\n",
    "y_score = estimator_rbf.decision_function(X_hot_test)\n",
    "y_true = y_test\n",
    "\n",
    "# Calculate the false positive rate,  the true positive rate and the area\n",
    "# under ROC curve\n",
    "fpr_rbf, tpr_rbf, thresholds = roc_curve(y_true, y_score)\n",
    "roc_auc = roc_auc_score(y_test, y_score)\n",
    "\n",
    "# Plot\n",
    "plt.plot(fpr_rbf, tpr_rbf, label='ROC curve (area = %0.2f)' % roc_auc)\n",
    "\n",
    "# Plot black dashed line (k=black) from (0,0) to (1,1)\n",
    "plt.plot([0, 1], [0, 1], 'k--')\n",
    "\n",
    "# Set x and y ranges, labels, title and legend\n",
    "plt.xlim([-0.05, 1])\n",
    "plt.ylim([0, 1.05])\n",
    "plt.xlabel('False Positive Rate')\n",
    "plt.ylabel('True Positive Rate')\n",
    "plt.title('Receiver operating characteristic')\n",
    "plt.legend(loc=\"lower right\")"
   ]
  },
  {
   "cell_type": "code",
   "execution_count": 81,
   "metadata": {
    "collapsed": false
   },
   "outputs": [
    {
     "data": {
      "text/plain": [
       "<matplotlib.legend.Legend at 0x123a4cbd0>"
      ]
     },
     "execution_count": 81,
     "metadata": {},
     "output_type": "execute_result"
    },
    {
     "data": {
      "image/png": "[encoded data removed]",
      "text/plain": [
       "<matplotlib.figure.Figure at 0x122613090>"
      ]
     },
     "metadata": {},
     "output_type": "display_data"
    }
   ],
   "source": [
    "# Calculate the decision function of test set\n",
    "y_score = estimator.decision_function(X_hot_test)\n",
    "y_true = y_test\n",
    "\n",
    "# Calculate the false positive rate,  the true positive rate and the area\n",
    "# under ROC curve\n",
    "fpr_poly, tpr_poly, thresholds = roc_curve(y_true, y_score)\n",
    "roc_auc = roc_auc_score(y_test, y_score)\n",
    "\n",
    "# Plot\n",
    "plt.plot(fpr_poly, tpr_poly, label='ROC curve (area = %0.2f)' % roc_auc)\n",
    "\n",
    "# Plot black dashed line (k=black) from (0,0) to (1,1)\n",
    "plt.plot([0, 1], [0, 1], 'k--')\n",
    "\n",
    "# Set x and y ranges, labels, title and legend\n",
    "plt.xlim([-0.05, 1])\n",
    "plt.ylim([0, 1.05])\n",
    "plt.xlabel('False Positive Rate')\n",
    "plt.ylabel('True Positive Rate')\n",
    "plt.title('Receiver operating characteristic')\n",
    "plt.legend(loc=\"lower right\")"
   ]
  },
  {
   "cell_type": "markdown",
   "metadata": {},
   "source": [
    "Plot a ROC curve for SVM with poly kernel:"
   ]
  },
  {
   "cell_type": "markdown",
   "metadata": {},
   "source": [
    "## Regression Model"
   ]
  },
  {
   "cell_type": "markdown",
   "metadata": {},
   "source": [
    "Use logistic regression to build the regression classifier:"
   ]
  },
  {
   "cell_type": "code",
   "execution_count": 69,
   "metadata": {
    "collapsed": true
   },
   "outputs": [],
   "source": [
    "def log_regression(X_train, X_test, y_train):\n",
    "    \"\"\"Compute the logistic regression model.\n",
    "\n",
    "    Parameters\n",
    "    ----------\n",
    "    scaled_feature_train: numpy.ndarray\n",
    "        A numpy array of the scaled features from training data set.\n",
    "    scaled_feature_test: numpy.ndarray\n",
    "        A numpy array of the scaled features from test data set.\n",
    "    outcome_train:\n",
    "        A numpy array of the outcomes from test data set.\n",
    "\n",
    "    Returns\n",
    "    -------\n",
    "    A python tuple of a model and a numpy.ndarray\n",
    "        A model of Logistic regression and a numpy array of the\n",
    "        predicted target values for scaled_feature_test.\n",
    "\n",
    "    \"\"\"\n",
    "    # Fit Logistic Regression according to the given training data.\n",
    "    logreg = LogisticRegression().fit(X_train, y_train)\n",
    "\n",
    "    # Perform classification on the test set\n",
    "    predict = logreg.predict(X_test)\n",
    "    return logreg, predict"
   ]
  },
  {
   "cell_type": "code",
   "execution_count": 70,
   "metadata": {
    "collapsed": false
   },
   "outputs": [
    {
     "name": "stdout",
     "output_type": "stream",
     "text": [
      "\n",
      "Logistic regression:\n",
      "The accuracy is: 0.55\n",
      "The sensitivity is: 0.651162790698\n",
      "The specificity is: 0.432432432432\n",
      "The F1 score is: 0.608695652174\n",
      "The AUC is: 0.544965430547\n"
     ]
    }
   ],
   "source": [
    "log_clf = log_regression(X_hot_train, X_hot_test, y_train)\n",
    "estimator_log = log_clf[0]\n",
    "y_predict_log = log_clf[1]\n",
    "\n",
    "# Calculate the accuracy, sensitivity, specificity, f1-score, and AUC\n",
    "accurate_log = acc(y_test, y_predict_log)\n",
    "sen_log = sensitivity(y_test, y_predict_log)\n",
    "spec_log = specificity(y_test, y_predict_log)\n",
    "f1_log = f(y_predict_log, y_test)\n",
    "area_under_roc_log = auc(estimator_log, X_hot_test, y_test)\n",
    "\n",
    "print\n",
    "print 'Logistic regression:'\n",
    "print 'The accuracy is: %s' % accurate_log\n",
    "print 'The sensitivity is: %s' % sen_log\n",
    "print 'The specificity is: %s' % spec_log\n",
    "print 'The F1 score is: %s' % f1_log\n",
    "print 'The AUC is: %s' % area_under_roc_log"
   ]
  },
  {
   "cell_type": "markdown",
   "metadata": {},
   "source": [
    "Plot the ROC curve for the logistic regression classifier:"
   ]
  },
  {
   "cell_type": "code",
   "execution_count": 82,
   "metadata": {
    "collapsed": false
   },
   "outputs": [
    {
     "data": {
      "text/plain": [
       "<matplotlib.legend.Legend at 0x123d12cd0>"
      ]
     },
     "execution_count": 82,
     "metadata": {},
     "output_type": "execute_result"
    },
    {
     "data": {
      "image/png": "[encoded data removed]",
      "text/plain": [
       "<matplotlib.figure.Figure at 0x123a0d1d0>"
      ]
     },
     "metadata": {},
     "output_type": "display_data"
    }
   ],
   "source": [
    "# Calculate the decision function of test set\n",
    "y_score = estimator_log.decision_function(X_hot_test)\n",
    "y_true = y_test\n",
    "\n",
    "# Calculate the false positive rate,  the true positive rate and the area\n",
    "# under ROC curve\n",
    "fpr_log, tpr_log, thresholds = roc_curve(y_true, y_score)\n",
    "roc_auc = roc_auc_score(y_test, y_score)\n",
    "\n",
    "# Plot\n",
    "plt.plot(fpr_log, tpr_log, label='ROC curve (area = %0.2f)' % roc_auc)\n",
    "\n",
    "# Plot black dashed line (k=black) from (0,0) to (1,1)\n",
    "plt.plot([0, 1], [0, 1], 'k--')\n",
    "\n",
    "# Set x and y ranges, labels, title and legend\n",
    "plt.xlim([-0.05, 1])\n",
    "plt.ylim([0, 1.05])\n",
    "plt.xlabel('False Positive Rate')\n",
    "plt.ylabel('True Positive Rate')\n",
    "plt.title('Receiver operating characteristic')\n",
    "plt.legend(loc=\"lower right\")"
   ]
  },
  {
   "cell_type": "markdown",
   "metadata": {},
   "source": [
    "Compute confusion matrix for logistic regression:"
   ]
  },
  {
   "cell_type": "code",
   "execution_count": 128,
   "metadata": {
    "collapsed": false
   },
   "outputs": [
    {
     "name": "stdout",
     "output_type": "stream",
     "text": [
      "Confusion matrix, without normalization\n",
      "[[ 80 105]\n",
      " [ 75 140]]\n",
      "Normalized confusion matrix\n",
      "[[ 0.43  0.57]\n",
      " [ 0.35  0.65]]\n"
     ]
    },
    {
     "data": {
      "image/png": "[encoded data removed]",
      "text/plain": [
       "<matplotlib.figure.Figure at 0x1247b2ed0>"
      ]
     },
     "metadata": {},
     "output_type": "display_data"
    },
    {
     "data": {
      "image/png": "[encoded data removed]",
      "text/plain": [
       "<matplotlib.figure.Figure at 0x124e6b990>"
      ]
     },
     "metadata": {},
     "output_type": "display_data"
    }
   ],
   "source": [
    "# Compute confusion matrix\n",
    "cnf_matrix = confusion_matrix(y_test, y_predict_log)\n",
    "np.set_printoptions(precision=2)\n",
    "\n",
    "# Plot non-normalized confusion matrix\n",
    "plt.figure()\n",
    "plot_confusion_matrix(cnf_matrix, classes=['neg', 'pos'],\n",
    "                      title='Confusion matrix, without normalization')\n",
    "\n",
    "# Plot normalized confusion matrix\n",
    "plt.figure()\n",
    "plot_confusion_matrix(cnf_matrix, classes=['neg', 'pos'], normalize=True,\n",
    "                      title='Normalized confusion matrix')\n",
    "\n",
    "plt.show()"
   ]
  },
  {
   "cell_type": "markdown",
   "metadata": {},
   "source": [
    "Compare three ROC curves on the same plot:"
   ]
  },
  {
   "cell_type": "code",
   "execution_count": 83,
   "metadata": {
    "collapsed": false
   },
   "outputs": [
    {
     "data": {
      "text/plain": [
       "<matplotlib.legend.Legend at 0x123ef1490>"
      ]
     },
     "execution_count": 83,
     "metadata": {},
     "output_type": "execute_result"
    },
    {
     "data": {
      "image/png": "[encoded data removed]",
      "text/plain": [
       "<matplotlib.figure.Figure at 0x123aaaf10>"
      ]
     },
     "metadata": {},
     "output_type": "display_data"
    }
   ],
   "source": [
    "plt.plot([0, 1], [0, 1], 'k--')\n",
    "plt.plot(fpr_rf, tpr_rf, label='RF')\n",
    "plt.plot(fpr_log, tpr_log, label='LR')\n",
    "plt.plot(fpr_poly, tpr_poly, label='Poly')\n",
    "plt.xlabel('False positive rate')\n",
    "plt.ylabel('True positive rate')\n",
    "plt.title('ROC curve (zoomed in at top left)')\n",
    "plt.legend(loc='best')"
   ]
  },
  {
   "cell_type": "markdown",
   "metadata": {},
   "source": [
    "Use a bar chart to show the accuracy of different classifiers:"
   ]
  },
  {
   "cell_type": "code",
   "execution_count": 144,
   "metadata": {
    "collapsed": false
   },
   "outputs": [
    {
     "data": {
      "text/plain": [
       "([<matplotlib.axis.XTick at 0x1265d4c50>,\n",
       "  <matplotlib.axis.XTick at 0x12614df10>,\n",
       "  <matplotlib.axis.XTick at 0x1226afa10>,\n",
       "  <matplotlib.axis.XTick at 0x122195b50>],\n",
       " <a list of 4 Text xticklabel objects>)"
      ]
     },
     "execution_count": 144,
     "metadata": {},
     "output_type": "execute_result"
    },
    {
     "data": {
      "image/png": "[encoded data removed]",
      "text/plain": [
       "<matplotlib.figure.Figure at 0x124d18710>"
      ]
     },
     "metadata": {},
     "output_type": "display_data"
    }
   ],
   "source": [
    "N = 4\n",
    "accuracy_arr = (accurate_rf, accurate_rbf, accurate, accurate_log)\n",
    "ind = np.arange(N)  # the x locations for the groups\n",
    "width = 0.35       # the width of the bars\n",
    "labels = ['RF', 'RBF', 'Poly', 'LR']\n",
    "\n",
    "plt.bar(ind, accuracy_arr, width, color='b')\n",
    "\n",
    "# add some text for labels, title and axes ticks\n",
    "plt.ylabel('Accuracy')\n",
    "plt.title('Accuracy Bar Chart')\n",
    "plt.xlim([-0.5, 4])\n",
    "plt.xticks(ind, labels)\n"
   ]
  },
  {
   "cell_type": "markdown",
   "metadata": {},
   "source": [
    "The neural network classifier shows a accuracy of 0.8025, which is the highest accuracy among all the classifiers (SVM using rbf kernel is the second one)."
   ]
  }
 ],
 "metadata": {
  "anaconda-cloud": {},
  "kernelspec": {
   "display_name": "Python 3",
   "language": "python",
   "name": "python3"
  },
  "language_info": {
   "codemirror_mode": {
    "name": "ipython",
    "version": 3
   },
   "file_extension": ".py",
   "mimetype": "text/x-python",
   "name": "python",
   "nbconvert_exporter": "python",
   "pygments_lexer": "ipython3",
   "version": "3.6.0"
  }
 },
 "nbformat": 4,
 "nbformat_minor": 0
}
